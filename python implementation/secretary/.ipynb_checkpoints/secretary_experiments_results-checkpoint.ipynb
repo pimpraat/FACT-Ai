{
 "cells": [
  {
   "cell_type": "markdown",
   "id": "3acc0553",
   "metadata": {},
   "source": [
    "## The Secretary Problem"
   ]
  },
  {
   "cell_type": "markdown",
   "id": "30222c41",
   "metadata": {},
   "source": [
    "#### Run Experiments"
   ]
  },
  {
   "cell_type": "code",
   "execution_count": null,
   "id": "c0d7314f",
   "metadata": {},
   "outputs": [],
   "source": [
    "import pickle\n",
    "import numpy as np \n",
    "import matplotlib.pyplot as plt\n",
    "from secretary_experiments import run_experiments\n",
    "from collections import Counter"
   ]
  },
  {
   "cell_type": "code",
   "execution_count": null,
   "id": "08b6f5fb",
   "metadata": {
    "scrolled": true
   },
   "outputs": [],
   "source": [
    "run_experiments()"
   ]
  },
  {
   "cell_type": "markdown",
   "id": "7c6fa80f",
   "metadata": {},
   "source": [
    "#### Helper Functions"
   ]
  },
  {
   "cell_type": "code",
   "execution_count": null,
   "id": "807eae6b",
   "metadata": {},
   "outputs": [],
   "source": [
    "def count_results(results):\n",
    "    \"\"\"Receives results for one experiment and counts: 1) the occurance of candidates from each color, and 2)\n",
    "    the occurance of candidates that are equal to the max value from that color\n",
    "\n",
    "    Args:\n",
    "        results (tuple): the results of the experiment\n",
    "\n",
    "    Returns:\n",
    "        Counter: occurances of candidates per color\n",
    "        Counter: occurances of candidates per color that are the max within their group\n",
    "    \"\"\"\n",
    "    return Counter([item.color for item in results]), Counter([item.color for item in results if item.ismax])"
   ]
  },
  {
   "cell_type": "code",
   "execution_count": null,
   "id": "b27427b0",
   "metadata": {},
   "outputs": [],
   "source": [
    "def unfold_synthetic_experiment(results, experiment):\n",
    "    \"\"\"Plots the occurance of candidates per color and algorithm within an experiment\n",
    "\n",
    "    Args:\n",
    "        results (tuple): the results of the experiment\n",
    "        experiment (string): name of the experiment\n",
    "    \"\"\"\n",
    "    \n",
    "    results_SA, results_SCSA, results_MCSA = results\n",
    "        \n",
    "    SA = count_results(results_SA)\n",
    "    SCSA = count_results(results_SCSA)\n",
    "    MCSA = count_results(results_MCSA)\n",
    "\n",
    "    print(\"Percentage of Picked Candidates: \", (20000 - MCSA[0][-1])/(20000 - SCSA[0][-1]))\n",
    "    print(\"Percentage of Max Candidates: \", sum(MCSA[1].values())/sum(SCSA[1].values()))\n",
    "  \n",
    "    X = ['Input', 'F-Pick', 'F-Max', 'U-Pick','U-Max', 'S-Pick', 'S-Max']\n",
    "\n",
    "    reds = [10, MCSA[0]['red'], MCSA[1]['red'], SA[0]['red'], SA[1]['red'], SCSA[0]['red'], SCSA[1]['red']]\n",
    "    greens = [100, MCSA[0]['green'], MCSA[1]['green'], SA[0]['green'], SA[1]['green'], SCSA[0]['green'], SCSA[1]['green']]\n",
    "    blues = [1000, MCSA[0]['blue'], MCSA[1]['blue'], SA[0]['blue'], SA[1]['blue'], SCSA[0]['blue'], SCSA[1]['blue']]\n",
    "    yellows = [10000, MCSA[0]['yellow'], MCSA[1]['yellow'], SA[0]['yellow'], SA[1]['yellow'], SCSA[0]['yellow'], SCSA[1]['yellow']]\n",
    "\n",
    "    X_axis = np.arange(len(X))\n",
    "\n",
    "    plt.bar(X_axis - 0.4, reds, 0.2, label = 'Color1', color='#b2b2ff', edgecolor = '#b2b2ff')\n",
    "    plt.bar(X_axis - 0.2, greens, 0.2, label = 'Color2', color='#ffb2b2', edgecolor = '#ffb2b2')\n",
    "    plt.bar(X_axis + 0, blues, 0.2, label = 'Color3', color='#ecd9c6', edgecolor = '#ecd9c6')\n",
    "    plt.bar(X_axis + 0.2, yellows, 0.2, label = 'Color4', color='#808080', edgecolor = '#808080')\n",
    "\n",
    "    plt.xticks(X_axis, X)\n",
    "    plt.ylabel(\"Number of Occurances\")\n",
    "    plt.title(experiment)\n",
    "    plt.legend()\n",
    "    plt.ylim(top = 12000)\n",
    "    plt.show()"
   ]
  },
  {
   "cell_type": "code",
   "execution_count": null,
   "id": "f7c94858",
   "metadata": {},
   "outputs": [],
   "source": [
    "def unfold_real_experiment(results, n, colors, experiment, top_limit = 18000):\n",
    "    \"\"\"Plots the occurance of candidates per color and algorithm within an experiment\n",
    "\n",
    "    Args:\n",
    "        results (tuple): the results of the experiment\n",
    "        n (list): size of groups\n",
    "        colors (list): name of groups\n",
    "        experiment (string): name of the experiment\n",
    "        top_limit (int):top limit of the plot y-axis\n",
    "    \"\"\"\n",
    "    \n",
    "    results_SA, results_SCSA, results_MCSA = results\n",
    "        \n",
    "    SA = count_results(results_SA)\n",
    "    SCSA = count_results(results_SCSA)\n",
    "    MCSA = count_results(results_MCSA)\n",
    "\n",
    "    print(\"Percentage of Picked Candidates: \", (20000 - MCSA[0][-1])/(20000 - SCSA[0][-1]))\n",
    "    print(\"Percentage of Max Candidates: \", sum(MCSA[1].values())/sum(SCSA[1].values()))\n",
    "  \n",
    "    X = ['Input', 'F-Pick', 'F-Max', 'U-Pick','U-Max', 'S-Pick', 'S-Max']\n",
    "\n",
    "    color1 = [n[0], MCSA[0][colors[0]], MCSA[1][colors[0]], SA[0][colors[0]], SA[1][colors[0]], SCSA[0][colors[0]], SCSA[1][colors[0]]]\n",
    "    color2 = [n[1], MCSA[0][colors[1]], MCSA[1][colors[1]], SA[0][colors[1]], SA[1][colors[1]], SCSA[0][colors[1]], SCSA[1][colors[1]]]\n",
    "    color3 = [n[2], MCSA[0][colors[2]], MCSA[1][colors[2]], SA[0][colors[2]], SA[1][colors[2]], SCSA[0][colors[2]], SCSA[1][colors[2]]]\n",
    "    color4 = [n[3], MCSA[0][colors[3]], MCSA[1][colors[3]], SA[0][colors[3]], SA[1][colors[3]], SCSA[0][colors[3]], SCSA[1][colors[3]]]\n",
    "    color5 = [n[4], MCSA[0][colors[4]], MCSA[1][colors[4]], SA[0][colors[4]], SA[1][colors[4]], SCSA[0][colors[4]], SCSA[1][colors[4]]]\n",
    "\n",
    "    X_axis = np.arange(len(X))\n",
    "\n",
    "    plt.bar(X_axis - 0.3, color1, 0.15, label = colors[0], color='#b2b2ff', edgecolor = '#b2b2ff')\n",
    "    plt.bar(X_axis - 0.15, color2, 0.15, label = colors[1], color='#ffb2b2', edgecolor = '#ffb2b2')\n",
    "    plt.bar(X_axis + 0, color3, 0.15, label = colors[2], color='#ecd9c6', edgecolor = '#ecd9c6')\n",
    "    plt.bar(X_axis + 0.15, color4, 0.15, label = colors[3], color='#808080', edgecolor = '#808080')\n",
    "    plt.bar(X_axis + 0.3, color5, 0.15, label = colors[4], color='purple', edgecolor = 'purple')\n",
    "\n",
    "    plt.xticks(X_axis, X)\n",
    "    plt.ylabel(\"Number of Occurances\")\n",
    "    plt.title(experiment)\n",
    "    plt.legend()\n",
    "    plt.ylim(top = top_limit)\n",
    "    plt.show()"
   ]
  },
  {
   "cell_type": "markdown",
   "id": "b24e9c50",
   "metadata": {},
   "source": [
    "#### 1,2) Synthetic Experiments"
   ]
  },
  {
   "cell_type": "code",
   "execution_count": null,
   "id": "246891c6",
   "metadata": {},
   "outputs": [],
   "source": [
    "with open('results/results_synthetic1.pickle', 'rb') as f:\n",
    "     results = pickle.load(f)\n",
    "        \n",
    "with open('results/results_synthetic2.pickle', 'rb') as f:\n",
    "     results2 = pickle.load(f)"
   ]
  },
  {
   "cell_type": "code",
   "execution_count": null,
   "id": "a6bae3c6",
   "metadata": {},
   "outputs": [],
   "source": [
    "unfold_synthetic_experiment(results, experiment = \"(a) Synthetic Dataset Equal p\")\n",
    "unfold_synthetic_experiment(results2, experiment = \"(b) Synthetic Dataset General p\")"
   ]
  },
  {
   "cell_type": "markdown",
   "id": "bd3fbc28",
   "metadata": {},
   "source": [
    "#### 3) Bank Data Experiment"
   ]
  },
  {
   "cell_type": "code",
   "execution_count": null,
   "id": "b9a28090",
   "metadata": {},
   "outputs": [],
   "source": [
    "with open('results/results_bank.pickle', 'rb') as f:\n",
    "     results3 = pickle.load(f)\n",
    "        \n",
    "with open('results/results_bank_args.pickle', 'rb') as f:\n",
    "     n_bank = pickle.load(f)\n",
    "        \n",
    "colors = ['under 30', '31-40', '41-50', '51-60', 'over 60']"
   ]
  },
  {
   "cell_type": "code",
   "execution_count": null,
   "id": "cc3cd9e5",
   "metadata": {},
   "outputs": [],
   "source": [
    "unfold_real_experiment(results3, n_bank, colors, experiment = \"(c) Feedback Maximization\")"
   ]
  },
  {
   "cell_type": "markdown",
   "id": "95510c55",
   "metadata": {},
   "source": [
    "#### 4) Pokec Data Experiment"
   ]
  },
  {
   "cell_type": "code",
   "execution_count": null,
   "id": "2236a70e",
   "metadata": {},
   "outputs": [],
   "source": [
    "with open('results/results_pokec_part1.pickle', 'rb') as f:\n",
    "     results4_part1 = pickle.load(f)\n",
    "        \n",
    "with open('results/results_pokec_args_part1.pickle', 'rb') as f:\n",
    "     n_pokec_part1 = pickle.load(f)\n",
    "        \n",
    "with open('results/results_pokec_part2.pickle', 'rb') as f:\n",
    "     results4_part2 = pickle.load(f)\n",
    "        \n",
    "with open('results/results_pokec_args_part2.pickle', 'rb') as f:\n",
    "     n_pokec_part2 = pickle.load(f)\n",
    "\n",
    "colors = [\"Under\", \"Normal\", \"Over\", \"Obese 1\", \"Obese 2\"]"
   ]
  },
  {
   "cell_type": "code",
   "execution_count": null,
   "id": "a8da9370",
   "metadata": {},
   "outputs": [],
   "source": [
    "results4 = tuple(x + y for x, y in zip(results4_part1, results4_part2))\n",
    "n_pokec = [int(number * 3500 / 200000) for number in n_pokec_part1]"
   ]
  },
  {
   "cell_type": "code",
   "execution_count": null,
   "id": "24a16cdb",
   "metadata": {},
   "outputs": [],
   "source": [
    "unfold_real_experiment(results4, n_pokec, colors, experiment = \"(d) Influence Maximization\", top_limit = 10000)"
   ]
  },
  {
   "cell_type": "code",
   "execution_count": null,
   "id": "4b7c32de",
   "metadata": {},
   "outputs": [],
   "source": []
  }
 ],
 "metadata": {
  "kernelspec": {
   "display_name": "Python 3",
   "language": "python",
   "name": "python3"
  },
  "language_info": {
   "codemirror_mode": {
    "name": "ipython",
    "version": 3
   },
   "file_extension": ".py",
   "mimetype": "text/x-python",
   "name": "python",
   "nbconvert_exporter": "python",
   "pygments_lexer": "ipython3",
   "version": "3.8.6"
  }
 },
 "nbformat": 4,
 "nbformat_minor": 5
}
